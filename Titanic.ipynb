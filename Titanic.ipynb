{
 "cells": [
  {
   "cell_type": "code",
   "execution_count": 4,
   "metadata": {},
   "outputs": [
    {
     "name": "stdout",
     "output_type": "stream",
     "text": [
      "Accuracy: 1.0\n",
      "Classification Report:\n",
      "              precision    recall  f1-score   support\n",
      "\n",
      "           0       1.00      1.00      1.00        50\n",
      "           1       1.00      1.00      1.00        34\n",
      "\n",
      "    accuracy                           1.00        84\n",
      "   macro avg       1.00      1.00      1.00        84\n",
      "weighted avg       1.00      1.00      1.00        84\n",
      "\n",
      "Model saved as random_forest_titanic_model.pkl\n",
      "Predictions for new passengers:\n",
      "[0 1]\n"
     ]
    }
   ],
   "source": [
    "import pandas as pd\n",
    "from sklearn.model_selection import train_test_split\n",
    "from sklearn.ensemble import RandomForestClassifier\n",
    "from sklearn.metrics import classification_report, accuracy_score\n",
    "from sklearn.preprocessing import LabelEncoder\n",
    "from sklearn.impute import SimpleImputer\n",
    "import joblib\n",
    "file_path = \"C:/Users/VENUGOPAL BADRI/Downloads/tested.csv\"  \n",
    "data = pd.read_csv(file_path)\n",
    "# Data Preprocessing\n",
    "# Handle missing values for 'Age' by filling with median\n",
    "age_imputer = SimpleImputer(strategy='median')\n",
    "data['Age'] = age_imputer.fit_transform(data[['Age']])\n",
    "# Handle missing values for 'Fare' by filling with median\n",
    "fare_imputer = SimpleImputer(strategy='median')\n",
    "data['Fare'] = fare_imputer.fit_transform(data[['Fare']])\n",
    "# Drop the 'Cabin' column due to excessive missing values\n",
    "data.drop(columns=['Cabin'], inplace=True)\n",
    "# Encode the 'Sex' column using Label Encoding (male=1, female=0)\n",
    "label_encoder = LabelEncoder()\n",
    "data['Sex'] = label_encoder.fit_transform(data['Sex'])\n",
    "# Perform one-hot encoding for 'Embarked'\n",
    "data = pd.get_dummies(data, columns=['Embarked'], drop_first=True)\n",
    "# Create a new feature: FamilySize (SibSp + Parch + 1)\n",
    "data['FamilySize'] = data['SibSp'] + data['Parch'] + 1\n",
    "# Select the features for model training\n",
    "features = ['Pclass', 'Sex', 'Age', 'Fare', 'FamilySize', 'Embarked_Q', 'Embarked_S']\n",
    "X = data[features]\n",
    "y = data['Survived']\n",
    "# Split the data into training and testing sets\n",
    "X_train, X_test, y_train, y_test = train_test_split(X, y, test_size=0.2, random_state=42)\n",
    "# Train the Random Forest Classifier\n",
    "rf_model = RandomForestClassifier(n_estimators=100, random_state=42)\n",
    "rf_model.fit(X_train, y_train)\n",
    "# Make predictions on the test set\n",
    "y_pred = rf_model.predict(X_test)\n",
    "# Evaluate the model\n",
    "accuracy = accuracy_score(y_test, y_pred)\n",
    "classification_rep = classification_report(y_test, y_pred)\n",
    "print(f\"Accuracy: {accuracy}\")\n",
    "print(\"Classification Report:\")\n",
    "print(classification_rep)\n",
    "# Save the trained model to a file\n",
    "model_filename = 'random_forest_titanic_model.pkl'\n",
    "joblib.dump(rf_model, model_filename)\n",
    "print(f\"Model saved as {model_filename}\")\n",
    "# Load the saved model and make predictions for new data\n",
    "# Example of new data\n",
    "new_passengers = pd.DataFrame({\n",
    "    'Pclass': [3, 1],\n",
    "    'Sex': [1, 0],  # Male=1, Female=0\n",
    "    'Age': [25, 38],\n",
    "    'Fare': [7.25, 71.28],\n",
    "    'FamilySize': [1, 3],\n",
    "    'Embarked_Q': [0, 0],\n",
    "    'Embarked_S': [1, 0]\n",
    "})\n",
    "# Load the saved model\n",
    "loaded_model = joblib.load(model_filename)\n",
    "new_predictions = loaded_model.predict(new_passengers)\n",
    "print(\"Predictions for new passengers:\")\n",
    "print(new_predictions)  # 1 = Survived, 0 = Did not survive"
   ]
  },
  {
   "cell_type": "code",
   "execution_count": null,
   "metadata": {},
   "outputs": [],
   "source": []
  }
 ],
 "metadata": {
  "kernelspec": {
   "display_name": "Python 3",
   "language": "python",
   "name": "python3"
  },
  "language_info": {
   "codemirror_mode": {
    "name": "ipython",
    "version": 3
   },
   "file_extension": ".py",
   "mimetype": "text/x-python",
   "name": "python",
   "nbconvert_exporter": "python",
   "pygments_lexer": "ipython3",
   "version": "3.10.7"
  }
 },
 "nbformat": 4,
 "nbformat_minor": 2
}
